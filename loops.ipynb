{
 "cells": [
  {
   "cell_type": "code",
   "execution_count": 1,
   "metadata": {},
   "outputs": [
    {
     "name": "stdout",
     "output_type": "stream",
     "text": [
      "A\n",
      "D\n",
      "I\n",
      "T\n",
      "Y\n",
      "A\n"
     ]
    }
   ],
   "source": [
    "name =\"aditya\"\n",
    "for char in name :\n",
    "    print(char.upper())"
   ]
  },
  {
   "cell_type": "code",
   "execution_count": null,
   "metadata": {},
   "outputs": [],
   "source": []
  },
  {
   "cell_type": "code",
   "execution_count": 2,
   "metadata": {},
   "outputs": [],
   "source": [
    "movies=['har dil jo pyar karega'\n",
    "'koi gir gaya'\n",
    "'matrix'\n",
    "'3 idiots']"
   ]
  },
  {
   "cell_type": "code",
   "execution_count": 3,
   "metadata": {},
   "outputs": [
    {
     "name": "stdout",
     "output_type": "stream",
     "text": [
      "har dil jo pyar karegakoi gir gayamatrix3 idiots\n"
     ]
    }
   ],
   "source": [
    "for movie in movies:\n",
    "    print(movie)"
   ]
  },
  {
   "cell_type": "code",
   "execution_count": 4,
   "metadata": {},
   "outputs": [
    {
     "name": "stdout",
     "output_type": "stream",
     "text": [
      "1 6 11 16 21 26 31 36 41 46 51 56 61 66 71 76 81 86 91 96 "
     ]
    }
   ],
   "source": [
    "for i in range(1,100,5):\n",
    "    print((i),end=\" \")"
   ]
  },
  {
   "cell_type": "code",
   "execution_count": 5,
   "metadata": {},
   "outputs": [
    {
     "name": "stdout",
     "output_type": "stream",
     "text": [
      "1 3 5 7 9 11 13 15 17 19 21 23 25 27 29 31 33 35 37 39 41 43 45 47 49 51 53 55 57 59 61 63 65 67 69 71 73 75 77 79 81 83 85 87 89 91 93 95 97 99 "
     ]
    }
   ],
   "source": [
    "for i in range(1,100,2):\n",
    "    print(i,end=\" \")"
   ]
  },
  {
   "attachments": {},
   "cell_type": "markdown",
   "metadata": {},
   "source": [
    "# special iteratble\n",
    "- range()\n",
    "- enumerate()\n",
    "- zip()\n",
    "#### important stuff\n",
    "- break\n",
    "- continue\n",
    "- for else loop"
   ]
  },
  {
   "cell_type": "code",
   "execution_count": 6,
   "metadata": {},
   "outputs": [
    {
     "name": "stdout",
     "output_type": "stream",
     "text": [
      "(0, 45)\n",
      "(1, 23)\n",
      "(2, 43)\n",
      "(3, 34)\n",
      "(4, 5)\n",
      "(5, 55)\n"
     ]
    }
   ],
   "source": [
    "\n",
    "#enumeration\n",
    "data=[45,23,43,34,5,55]\n",
    "for i in enumerate(data):\n",
    "   print(i)"
   ]
  },
  {
   "cell_type": "code",
   "execution_count": 7,
   "metadata": {},
   "outputs": [
    {
     "name": "stdout",
     "output_type": "stream",
     "text": [
      "0 45\n",
      "1 23\n",
      "2 43\n",
      "3 34\n",
      "4 5\n",
      "5 55\n"
     ]
    }
   ],
   "source": [
    "for i ,v in enumerate(data):\n",
    "    print(i,v)\n",
    "    "
   ]
  },
  {
   "cell_type": "code",
   "execution_count": 8,
   "metadata": {},
   "outputs": [
    {
     "name": "stdout",
     "output_type": "stream",
     "text": [
      "format apps : 36\n"
     ]
    }
   ],
   "source": [
    "apps=['calls', 'contacts', 'events', 'messages', 'tasks','call of duty','pornhub','zomato',\n",
    "      'github','google', 'twitter', 'facebook', 'instagram', 'linkedin', 'reddit', 'youtube',\n",
    "      'byjus', 'kakao', 'kakao_talk', 'kakao','calculator', 'calendar', 'calendar2','gpay','telegram',\n",
    "      'apps', 'apps2', 'apps3', 'apps4', 'apps5', 'apps6','apps7', 'apps8', 'apps9', 'apps10', 'apps1',]\n",
    "print(f\"format apps : {len(apps)}\")\n",
    "\n",
    "\n"
   ]
  },
  {
   "cell_type": "code",
   "execution_count": 9,
   "metadata": {},
   "outputs": [
    {
     "name": "stdout",
     "output_type": "stream",
     "text": [
      "0 1 1\n",
      "1 2 2\n",
      "2 3 3\n",
      "3 4 4\n",
      "4 5 5\n",
      "5 6 6\n",
      "6 7 7\n",
      "7 8 8\n",
      "8 9 9\n",
      "9 1 1\n"
     ]
    }
   ],
   "source": [
    "x=[1,2,3,4,5,6,7,8,9,1]\n",
    "y=[1,2,3,4,5,6,7,8,9,1]\n",
    "#it is not pythonic code\n",
    "for i in range(len(x)):\n",
    "    print(i,x[i],y[i])"
   ]
  },
  {
   "cell_type": "code",
   "execution_count": 10,
   "metadata": {},
   "outputs": [
    {
     "name": "stdout",
     "output_type": "stream",
     "text": [
      "2\n",
      "4\n",
      "6\n",
      "8\n",
      "10\n",
      "12\n",
      "14\n",
      "16\n",
      "18\n",
      "2\n"
     ]
    }
   ],
   "source": [
    "#pythonic zip() code\n",
    "for i,j in zip(x,y):\n",
    "    print(i+j)"
   ]
  },
  {
   "cell_type": "code",
   "execution_count": 11,
   "metadata": {},
   "outputs": [
    {
     "name": "stdout",
     "output_type": "stream",
     "text": [
      "2\n",
      "16\n",
      "45\n",
      "96\n",
      "175\n",
      "288\n",
      "441\n",
      "640\n"
     ]
    }
   ],
   "source": [
    "x=[2,4,5,6,7,8,9,10]\n",
    "y=[1,2,3,4,5,6,7,8,9,10]\n",
    "z=[1,2,3,4,5,6,7,8,9,10]\n",
    "\n",
    "for i,j,k in zip(x,y,z):\n",
    "    r=i*j*k #some math\n",
    "    print(r)"
   ]
  },
  {
   "cell_type": "code",
   "execution_count": 12,
   "metadata": {},
   "outputs": [
    {
     "name": "stdout",
     "output_type": "stream",
     "text": [
      "0 calls\n",
      "1 contacts\n",
      "2 events\n",
      "3 messages\n",
      "4 tasks\n",
      "5 call of duty\n",
      "6 pornhub\n",
      "7 zomato\n",
      "8 github\n",
      "9 google\n"
     ]
    }
   ],
   "source": [
    "for i,app in enumerate(apps):\n",
    "    \n",
    "    if i > 9 :\n",
    "        break\n",
    "    print(i,app)"
   ]
  },
  {
   "cell_type": "code",
   "execution_count": 13,
   "metadata": {},
   "outputs": [
    {
     "name": "stdout",
     "output_type": "stream",
     "text": [
      "calls\n",
      "contacts\n",
      "events\n",
      "messages\n",
      "tasks\n",
      "call of duty\n",
      "pornhub\n",
      "z found in zomato\n"
     ]
    }
   ],
   "source": [
    "for app in apps:\n",
    "    if 'z' in app:\n",
    "        print(f\"z found in {app}\")\n",
    "        break\n",
    "    print(app)"
   ]
  },
  {
   "cell_type": "code",
   "execution_count": 14,
   "metadata": {},
   "outputs": [
    {
     "name": "stdout",
     "output_type": "stream",
     "text": [
      "pornhub\n",
      "gpay\n",
      "apps\n",
      "apps2\n",
      "apps3\n",
      "apps4\n",
      "apps5\n",
      "apps6\n",
      "apps7\n",
      "apps8\n"
     ]
    }
   ],
   "source": [
    "c=0\n",
    "for app in apps:\n",
    "  if 'p' in app:\n",
    "    c+=1\n",
    "    print(app)\n",
    "  if c == 10:\n",
    "   \n",
    "    break\n"
   ]
  },
  {
   "cell_type": "code",
   "execution_count": 15,
   "metadata": {},
   "outputs": [
    {
     "name": "stdout",
     "output_type": "stream",
     "text": [
      "1\n",
      "2\n",
      "5\n",
      "2\n",
      "3\n",
      "4\n",
      "5\n",
      "6\n"
     ]
    }
   ],
   "source": [
    "x=[1,2,5,0,2,3,0,0,4,5,6,]\n",
    "for i in x:\n",
    "    if i == 0:\n",
    "        continue\n",
    "    print(i)"
   ]
  },
  {
   "cell_type": "code",
   "execution_count": 16,
   "metadata": {},
   "outputs": [
    {
     "name": "stdout",
     "output_type": "stream",
     "text": [
      "calls\n",
      "contacts\n",
      "tasks\n",
      "call of duty\n",
      "pornhub\n",
      "zomato\n",
      "github\n",
      "instagram\n",
      "byjus\n",
      "kakao\n",
      "kakao_talk\n",
      "kakao\n",
      "calculator\n",
      "gpay\n",
      "apps\n",
      "apps2\n",
      "apps3\n",
      "apps4\n",
      "apps5\n",
      "apps6\n",
      "apps7\n",
      "apps8\n",
      "apps9\n",
      "apps10\n",
      "apps1\n"
     ]
    }
   ],
   "source": [
    "for app in apps:\n",
    "    if 'e' in app: continue\n",
    "    print(app)"
   ]
  },
  {
   "cell_type": "code",
   "execution_count": 20,
   "metadata": {},
   "outputs": [
    {
     "name": "stdout",
     "output_type": "stream",
     "text": [
      "15\n"
     ]
    }
   ],
   "source": [
    "num=12345\n",
    "total=0\n",
    "while num > 0:\n",
    "    total += (num%10)\n",
    "    num //= 10\n",
    "print(total)\n"
   ]
  },
  {
   "cell_type": "code",
   "execution_count": 2,
   "metadata": {},
   "outputs": [
    {
     "name": "stdout",
     "output_type": "stream",
     "text": [
      "welcome to OS X\n",
      "wrong pin 2 left\n",
      "wrong pin 1 left\n",
      "wrong pin 0 left\n",
      "bye bye\n"
     ]
    }
   ],
   "source": [
    "retry =0\n",
    "while retry < 3:\n",
    "    pin =input(\"enter the pin number\")\n",
    "    if pin == '1234' :\n",
    "        print(\"welcome to OS X\")\n",
    "    else : \n",
    "        retry = retry + 1\n",
    "        print(f\"wrong pin {3-retry} left\")\n",
    "print(\"bye bye\")"
   ]
  },
  {
   "cell_type": "code",
   "execution_count": null,
   "metadata": {},
   "outputs": [],
   "source": []
  }
 ],
 "metadata": {
  "kernelspec": {
   "display_name": "base",
   "language": "python",
   "name": "python3"
  },
  "language_info": {
   "codemirror_mode": {
    "name": "ipython",
    "version": 3
   },
   "file_extension": ".py",
   "mimetype": "text/x-python",
   "name": "python",
   "nbconvert_exporter": "python",
   "pygments_lexer": "ipython3",
   "version": "3.10.9"
  },
  "orig_nbformat": 4,
  "vscode": {
   "interpreter": {
    "hash": "8a5edab282632443219e051e4ade2d1d5bbc671c781051bf1437897cbdfea0f1"
   }
  }
 },
 "nbformat": 4,
 "nbformat_minor": 2
}
